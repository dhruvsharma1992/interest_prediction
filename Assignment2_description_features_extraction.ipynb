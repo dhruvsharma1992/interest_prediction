{
 "cells": [
  {
   "cell_type": "code",
   "execution_count": 81,
   "metadata": {
    "collapsed": false
   },
   "outputs": [],
   "source": [
    "import pandas\n",
    "import numpy as np\n",
    "import urllib\n",
    "import googlemaps\n",
    "import json\n",
    "import time, datetime\n",
    "from sklearn.feature_extraction.text import TfidfVectorizer\n",
    "import nltk\n",
    "from nltk.stem.porter import *\n",
    "import string\n",
    "from string import punctuation\n",
    "from bs4 import BeautifulSoup\n",
    "import math\n",
    "from sklearn.ensemble import RandomForestClassifier\n",
    "import pickle\n",
    "import os\n",
    "import random\n",
    "from sklearn.metrics  import log_loss\n",
    "from sklearn.multiclass import OneVsRestClassifier"
   ]
  },
  {
   "cell_type": "code",
   "execution_count": 2,
   "metadata": {
    "collapsed": false
   },
   "outputs": [],
   "source": [
    "# panda_data = pandas.read_json('../train.json')\n",
    "# panda_test_data = pandas.read_json('test.json')"
   ]
  },
  {
   "cell_type": "code",
   "execution_count": 3,
   "metadata": {
    "collapsed": true
   },
   "outputs": [],
   "source": [
    "# with open('records.json', 'w') as outfile:\n",
    "#     json.dump(json.loads(panda_data.to_json(orient='records')), outfile)\n",
    "    \n",
    "# with open('records_test.json', 'w') as outfile:\n",
    "#     json.dump(json.loads(panda_test_data.to_json(orient='records')), outfile)"
   ]
  },
  {
   "cell_type": "code",
   "execution_count": 4,
   "metadata": {
    "collapsed": true
   },
   "outputs": [],
   "source": [
    "def expressStatus(status):\n",
    "    print status\n",
    "    os.system('say \"' + str(status) + '\"')"
   ]
  },
  {
   "cell_type": "code",
   "execution_count": 15,
   "metadata": {
    "collapsed": false
   },
   "outputs": [],
   "source": [
    "# def parseData(fname):\n",
    "#     for l in urllib.urlopen(fname):\n",
    "#         yield eval(l)\n",
    "        \n",
    "# data = np.transpose(list(parseData('records.json')))\n",
    "# test_data = np.transpose(list(parseData('records_test.json')))"
   ]
  },
  {
   "cell_type": "code",
   "execution_count": 6,
   "metadata": {
    "collapsed": false
   },
   "outputs": [
    {
     "name": "stdout",
     "output_type": "stream",
     "text": [
      "1 . display_address : Metropolitan Avenue\n",
      "2 . description : A Brand New 3 Bedroom 1.5 bath ApartmentEnjoy These Following Apartment Features As You Rent Here? Modern Designed Bathroom w/ a Deep Spa Soaking Tub? Room to Room AC/Heat? Real Oak Hardwood Floors? Rain Forest Shower Head? SS steel Appliances w/ Chef Gas Cook Oven & LG Fridge? washer /dryer in the apt? Cable Internet Ready? Granite Counter Top Kitchen w/ lot of cabinet storage spaceIt's Just A Few blocks To L Train<br /><br />Don't miss out!<br /><br />We have several great apartments in the immediate area.<br /><br />For additional information 687-878-2229<p><a  website_redacted \n",
      "3 . price : 3000\n",
      "4 . bedrooms : 3\n",
      "5 . photos : ['https://photos.renthop.com/2/7211212_1ed4542ec81621d70d1061aa833e669c.jpg', 'https://photos.renthop.com/2/7211212_7dfc41dced69245065df83d08eed4a00.jpg', 'https://photos.renthop.com/2/7211212_c17853c4b869af6f53af08b0f5820b4c.jpg', 'https://photos.renthop.com/2/7211212_787ad8ea0c089792e7453e2121f8ac89.jpg', 'https://photos.renthop.com/2/7211212_2e88b0d293ee333c804c2f00536eee49.jpg']\n",
      "6 . bathrooms : 1.5\n",
      "7 . features : []\n",
      "8 . listing_id : 7211212\n",
      "9 . building_id : 53a5b119ba8f7b61d4e010512e0dfc85\n",
      "10 . created : 2016-06-24 07:54:24\n",
      "11 . longitude : -73.9425\n",
      "12 . manager_id : 5ba989232d0489da1b5f2c45f6688adc\n",
      "13 . latitude : 40.7145\n",
      "14 . interest_level : medium\n",
      "15 . street_address : 792 Metropolitan Avenue\n"
     ]
    }
   ],
   "source": [
    "for i, k in enumerate(data[0][0]):\n",
    "    print i+1, '.', k, ':', data[0][0][k]\n"
   ]
  },
  {
   "cell_type": "code",
   "execution_count": 5,
   "metadata": {
    "collapsed": false
   },
   "outputs": [],
   "source": [
    "# def stem_tokens(tokens, stemmer):\n",
    "#     stemmed = []\n",
    "#     for item in tokens:\n",
    "#         stemmed.append(stemmer.stem(item))\n",
    "#     return stemmed\n",
    "\n",
    "# def tokenize(text, stemmer=PorterStemmer()):\n",
    "#     tokens = nltk.word_tokenize(text)\n",
    "#     stems = stem_tokens(tokens, stemmer)\n",
    "#     return stems\n",
    "\n",
    "# tfidf = TfidfVectorizer(tokenizer=tokenize, stop_words='english')\n",
    "\n",
    "# def trainTfIdfModel(strings):\n",
    "#     content = np.array([])\n",
    "#     tfIdfScores = np.array([])\n",
    "#     print 'Preprocessing Data'\n",
    "#     for s in strings:\n",
    "#         t = \" \".join(item.strip() for item in BeautifulSoup(s).find_all(text=True))\n",
    "#         t = str(''.join([i if ord(i) < 128 else ' ' for i in t]))\n",
    "#         replace_punctuation = string.maketrans(punctuation, ' '*len(punctuation))\n",
    "#         transformed_string = t.lower().translate(replace_punctuation)\n",
    "#         content = np.append(content, transformed_string)\n",
    "     \n",
    "#     print 'Started Training'\n",
    "#     tfs = tfidf.fit_transform(content)\n",
    "\n",
    "# trainTfIdfModel([d[0]['description'] for d in data])\n",
    "\n",
    "# def getTransformedtfIdfScore(review):\n",
    "#     t = \" \".join(item.strip() for item in BeautifulSoup(review).find_all(text=True))\n",
    "#     t = str(''.join([i if ord(i) < 128 else ' ' for i in t]))\n",
    "#     replace_punctuation = string.maketrans(punctuation, ' '*len(punctuation))\n",
    "#     transformed_string = t.lower().translate(replace_punctuation)\n",
    "#     response = tfidf.transform([transformed_string])\n",
    "    \n",
    "# #     feature_names = tfidf.get_feature_names()\n",
    "# #     for col in response.nonzero()[1]:\n",
    "# #         print feature_names[col], ' - ', response[0, col]\n",
    "    \n",
    "# #     print response.nonzero()[1]\n",
    "#     if float(response.nonzero()[1].shape[0]) == 0:\n",
    "#         return 0\n",
    "#     return float(np.sum([response[0, col] for col in response.nonzero()[1]])) / float(response.nonzero()[1].shape[0])"
   ]
  },
  {
   "cell_type": "code",
   "execution_count": 16,
   "metadata": {
    "collapsed": false
   },
   "outputs": [],
   "source": [
    "# def getARI(string):\n",
    "#     string = \" \".join(item.strip() for item in BeautifulSoup(string).find_all(text=True))\n",
    "#     string = str(''.join([i if ord(i) < 128 else ' ' for i in string]))\n",
    "#     s_count = float(len(nltk.sent_tokenize(string)))\n",
    "#     w_count = float(len(nltk.wordpunct_tokenize(string)))\n",
    "#     c_count = float(len(string))\n",
    "    \n",
    "#     if s_count == 0:\n",
    "#         return 12\n",
    "    \n",
    "#     return math.ceil((4.71*(c_count/w_count)) + (0.5*(w_count/s_count)) - 21.43)\n",
    "\n",
    "\n",
    "\n",
    "# def GetFeatures(data):\n",
    "#     structured_data = []\n",
    "#     index = 1\n",
    "#     for d in data:\n",
    "#         feat = []\n",
    "#         if index % 10000 == 1:\n",
    "#             print 'Starting', index\n",
    "            \n",
    "#         feat.append(time.mktime(datetime.datetime.strptime(d[0]['created'], \"%Y-%m-%d %H:%M:%S\").timetuple()))\n",
    "#         feat.append(getTransformedtfIdfScore(d[0]['description']))\n",
    "#         feat.append(getARI(d[0]['description']))\n",
    "#         structured_data.append(feat)\n",
    "#         if index % 10000 == 1:\n",
    "#             print 'Done', index\n",
    "#         index += 1\n",
    "    \n",
    "#     return structured_data"
   ]
  },
  {
   "cell_type": "code",
   "execution_count": 17,
   "metadata": {
    "collapsed": false
   },
   "outputs": [
    {
     "name": "stdout",
     "output_type": "stream",
     "text": [
      "Starting 1\n",
      "Done 1\n",
      "Starting 10001\n",
      "Done 10001\n",
      "Starting 20001\n",
      "Done 20001\n",
      "Starting 30001\n",
      "Done 30001\n",
      "Starting 40001\n",
      "Done 40001\n",
      "Starting 1\n",
      "Done 1\n",
      "Starting 10001\n",
      "Done 10001\n",
      "Starting 20001\n",
      "Done 20001\n",
      "Starting 30001\n",
      "Done 30001\n",
      "Starting 40001\n",
      "Done 40001\n",
      "Starting 50001\n",
      "Done 50001\n",
      "Starting 60001\n",
      "Done 60001\n",
      "Starting 70001\n",
      "Done 70001\n"
     ]
    }
   ],
   "source": [
    "# new_data = GetFeatures(data)\n",
    "# new_test_data = GetFeatures(test_data)"
   ]
  },
  {
   "cell_type": "code",
   "execution_count": 19,
   "metadata": {
    "collapsed": false
   },
   "outputs": [
    {
     "name": "stdout",
     "output_type": "stream",
     "text": [
      " [1466780064.0, 0.10791517320475999, 6.0]\n",
      "(49352, 3)\n",
      "[1465648181.0, 0.12883028455155554, 29.0]\n",
      "(74659, 3)\n"
     ]
    }
   ],
   "source": [
    "print new_data[0]\n",
    "print np.array(new_data).shape\n",
    "\n",
    "print new_test_data[0]\n",
    "print np.array(new_test_data).shape"
   ]
  },
  {
   "cell_type": "code",
   "execution_count": 20,
   "metadata": {
    "collapsed": true
   },
   "outputs": [],
   "source": [
    "np.save('ut_tfidf_ari_train', new_data)\n",
    "np.save('ut_tfidf_ari_test', new_test_data)"
   ]
  },
  {
   "cell_type": "code",
   "execution_count": 102,
   "metadata": {
    "collapsed": false
   },
   "outputs": [
    {
     "name": "stdout",
     "output_type": "stream",
     "text": [
      "bathrooms 0\n",
      "interest_building_high 9\n",
      "interest_manager_count 6\n",
      "distance from city center 14\n",
      "interest_building_low 7\n",
      "wage 18\n",
      "ari of desciption 21\n",
      "density 2\n",
      "interest level 22\n",
      "number of features 11\n",
      "latitude 12\n",
      "interest_building_medium 8\n",
      "unix timestamp 19\n",
      "price 17\n",
      "bedrooms 1\n",
      "interest_building_count 10\n",
      "interest_manager_high 5\n",
      "population 16\n",
      "tfidf of description 20\n",
      "interest_manager_medium 4\n",
      "longitude 13\n",
      "number of photos 15\n",
      "interest_manager_low 3\n"
     ]
    }
   ],
   "source": [
    "# all_features = np.load('featureX.npy')\n",
    "# feature_names = []\n",
    "\n",
    "# feature_names.append('bathrooms'),#0\n",
    "# feature_names.append('bedrooms'),#1\n",
    "# feature_names.append('density'),#2\n",
    "# feature_names.append('interest_manager_low'),#3\n",
    "# feature_names.append('interest_manager_medium'),#4\n",
    "# feature_names.append('interest_manager_high'),#5\n",
    "# feature_names.append('interest_manager_count'),#6\n",
    "# feature_names.append('interest_building_low'),#7\n",
    "# feature_names.append('interest_building_medium'),#8\n",
    "# feature_names.append('interest_building_high'),#9\n",
    "# feature_names.append('interest_building_count'),#10\n",
    "# feature_names.append('number of features'),#11\n",
    "# feature_names.append('latitude'),#12\n",
    "# feature_names.append('longitude'),#13\n",
    "# feature_names.append('distance from city center'),#14\n",
    "# feature_names.append('number of photos'),#15\n",
    "# feature_names.append('population'),#16\n",
    "# feature_names.append('price'),#17\n",
    "# feature_names.append('wage'),#18\n",
    "# feature_names.append('unix timestamp'),#19\n",
    "# feature_names.append('tfidf of description'),#20\n",
    "# feature_names.append('ari of desciption'),#21,\n",
    "# feature_names.append('interest level')#22\n",
    "                                                 \n",
    "# np.save('feature_names', feature_names)\n",
    "all_features = np.load('feature_names.npy')\n",
    "train_feature_index = dict([(v,i) for i,v in enumerate(all_features)])\n",
    "for feature in train_feature_index:\n",
    "    print feature, train_feature_index[feature]"
   ]
  },
  {
   "cell_type": "code",
   "execution_count": 103,
   "metadata": {
    "collapsed": false
   },
   "outputs": [
    {
     "name": "stdout",
     "output_type": "stream",
     "text": [
      "(23,) bathrooms\n"
     ]
    }
   ],
   "source": [
    "print all_features.shape, all_features[0]"
   ]
  },
  {
   "cell_type": "code",
   "execution_count": 104,
   "metadata": {
    "collapsed": false
   },
   "outputs": [
    {
     "name": "stdout",
     "output_type": "stream",
     "text": [
      "bathrooms 0\n",
      "interest_building_high 9\n",
      "interest_manager_count 6\n",
      "distance from city center 14\n",
      "interest_building_low 7\n",
      "wage 18\n",
      "ari of desciption 21\n",
      "density 2\n",
      "number of features 11\n",
      "latitude 12\n",
      "interest_building_medium 8\n",
      "unix timestamp 19\n",
      "price 17\n",
      "bedrooms 1\n",
      "interest_building_count 10\n",
      "interest_manager_high 5\n",
      "population 16\n",
      "tfidf of description 20\n",
      "interest_manager_medium 4\n",
      "longitude 13\n",
      "number of photos 15\n",
      "interest_manager_low 3\n"
     ]
    }
   ],
   "source": [
    "# feature_names_test = []\n",
    "\n",
    "# feature_names_test.append('bathrooms'),#0\n",
    "# feature_names_test.append('bedrooms'),#1\n",
    "# feature_names_test.append('density'),#2\n",
    "# feature_names_test.append('interest_manager_low'),#3\n",
    "# feature_names_test.append('interest_manager_medium'),#4\n",
    "# feature_names_test.append('interest_manager_high'),#5\n",
    "# feature_names_test.append('interest_manager_count'),#6\n",
    "# feature_names_test.append('interest_building_low'),#7\n",
    "# feature_names_test.append('interest_building_medium'),#8\n",
    "# feature_names_test.append('interest_building_high'),#9\n",
    "# feature_names_test.append('interest_building_count'),#10\n",
    "# feature_names_test.append('number of features'),#11\n",
    "# feature_names_test.append('latitude'),#12\n",
    "# feature_names_test.append('longitude'),#13\n",
    "# feature_names_test.append('distance from city center'),#14\n",
    "# feature_names_test.append('number of photos'),#15\n",
    "# feature_names_test.append('population'),#16\n",
    "# feature_names_test.append('price'),#17\n",
    "# feature_names_test.append('wage')#18\n",
    "# feature_names_test.append('unix timestamp'),#19\n",
    "# feature_names_test.append('tfidf of description'),#20\n",
    "# feature_names_test.append('ari of desciption')#21,\n",
    "\n",
    "# np.save('feature_names_test', feature_names_test)\n",
    "\n",
    "all_features_test = np.load('feature_names_test.npy')\n",
    "test_feature_index = dict([(v,i) for i,v in enumerate(all_features_test)])\n",
    "for feature in test_feature_index:\n",
    "    print feature, test_feature_index[feature]"
   ]
  },
  {
   "cell_type": "code",
   "execution_count": 108,
   "metadata": {
    "collapsed": false
   },
   "outputs": [],
   "source": [
    "def extract_features(datum, index_dictionary):\n",
    "    feat = []\n",
    "    feat.append(datum[index_dictionary['bathrooms']])\n",
    "    feat.append(datum[index_dictionary['bedrooms']])\n",
    "    feat.append(datum[index_dictionary['interest_manager_count']])\n",
    "    feat.append(datum[index_dictionary['interest_building_count']])\n",
    "    \n",
    "    feat.append(datum[index_dictionary['distance from city center']])\n",
    "    feat.append(datum[index_dictionary['wage']])\n",
    "    feat.append(datum[index_dictionary['price']])\n",
    "    feat.append(datum[index_dictionary['ari of desciption']])\n",
    "    feat.append(datum[index_dictionary['density']])\n",
    "    feat.append(datum[index_dictionary['number of features']])\n",
    "    feat.append(datum[index_dictionary['unix timestamp']])\n",
    "    feat.append(datum[index_dictionary['population']])\n",
    "    feat.append(datum[index_dictionary['tfidf of description']])\n",
    "    feat.append(datum[index_dictionary['number of photos']])\n",
    "    \n",
    "#     feat.append(2*datum[index_dictionary['interest_building_high']] +\n",
    "#                 1*datum[index_dictionary['interest_building_medium']] +\n",
    "#                 0*datum[index_dictionary['interest_building_low']])\n",
    "    \n",
    "#     feat.append(2*datum[index_dictionary['interest_manager_high']] +\n",
    "#                 1*datum[index_dictionary['interest_manager_medium']] +\n",
    "#                 0*datum[index_dictionary['interest_manager_low']])\n",
    "    return feat"
   ]
  },
  {
   "cell_type": "code",
   "execution_count": 109,
   "metadata": {
    "collapsed": true
   },
   "outputs": [],
   "source": [
    "def truncate_data(data, index_dictionary):\n",
    "    data = np.array([d for d in data if d[index_dictionary['distance from city center']] < 0.2])\n",
    "    return data"
   ]
  },
  {
   "cell_type": "code",
   "execution_count": 110,
   "metadata": {
    "collapsed": false
   },
   "outputs": [
    {
     "name": "stdout",
     "output_type": "stream",
     "text": [
      "(49352, 23) (23,)\n",
      "(74659, 23) (22,)\n",
      "(39347, 14) (74659, 14) (39347,) (9870, 14) (9870,)\n"
     ]
    }
   ],
   "source": [
    "data_features = np.load('featureX.npy')\n",
    "print data_features.shape, all_features.shape\n",
    "random.shuffle(data_features)\n",
    "validation_count = int(data_features.shape[0] * 0.2)\n",
    "train_data = truncate_data(data_features[:-validation_count], train_feature_index)\n",
    "train_X = np.array([extract_features(d, train_feature_index) for d in train_data])\n",
    "train_y = np.array([d[train_feature_index['interest level']] for d in train_data])\n",
    "\n",
    "\n",
    "validation_X = np.array([extract_features(d, train_feature_index) for d in data_features[-validation_count:]])\n",
    "validation_y = np.array([d[train_feature_index['interest level']] for d in data_features[-validation_count:]])\n",
    "\n",
    "test_features = np.load('X_test.npy')\n",
    "print test_features.shape, all_features_test.shape\n",
    "test_X = np.array([extract_features(d, test_feature_index) for d in test_features])\n",
    "print train_X.shape, test_X.shape, train_y.shape, validation_X.shape, validation_y.shape"
   ]
  },
  {
   "cell_type": "code",
   "execution_count": 111,
   "metadata": {
    "collapsed": false,
    "scrolled": true
   },
   "outputs": [
    {
     "name": "stdout",
     "output_type": "stream",
     "text": [
      "Training random forest model with 100 estimators and max depth 17 and 14 features\n",
      "building tree 1 of 100building tree 2 of 100\n",
      "  building tree 4 of 100\n",
      "building tree 3 of 100\n",
      "\n",
      "building tree 5 of 100\n",
      "building tree 6 of 100\n",
      "building tree 7 of 100\n",
      "building tree 8 of 100\n",
      "building tree 9 of 100building tree 10 of 100\n",
      " \n",
      "building tree 11 of 100 \n",
      "building tree 12 of 100\n",
      "building tree 13 of 100\n",
      "building tree 14 of 100building tree 15 of 100 \n",
      "\n",
      "building tree 16 of 100\n",
      "building tree 17 of 100\n",
      "building tree 18 of 100\n",
      "building tree 19 of 100\n",
      "building tree 20 of 100\n",
      "building tree 21 of 100\n",
      "building tree 22 of 100\n",
      "building tree 23 of 100\n",
      "building tree 24 of 100\n",
      "building tree 25 of 100\n",
      "building tree 26 of 100\n",
      "building tree 27 of 100\n",
      "building tree 28 of 100\n",
      "building tree 29 of 100\n",
      "building tree 30 of 100\n",
      "building tree 31 of 100\n",
      "building tree 32 of 100\n",
      "building tree 33 of 100\n",
      "building tree 34 of 100\n",
      "building tree 35 of 100\n",
      "building tree 36 of 100\n"
     ]
    },
    {
     "name": "stderr",
     "output_type": "stream",
     "text": [
      "[Parallel(n_jobs=-1)]: Done  33 tasks      | elapsed:    3.3s\n"
     ]
    },
    {
     "name": "stdout",
     "output_type": "stream",
     "text": [
      "building tree 37 of 100\n",
      "building tree 38 of 100\n",
      "building tree 39 of 100\n",
      "building tree 40 of 100\n",
      "building tree 41 of 100\n",
      "building tree 42 of 100\n",
      "building tree 43 of 100\n",
      "building tree 44 of 100\n",
      "building tree 45 of 100\n",
      "building tree 46 of 100\n",
      "building tree 47 of 100\n",
      "building tree 48 of 100\n",
      "building tree 49 of 100\n",
      "building tree 50 of 100\n",
      "building tree 51 of 100\n",
      "building tree 52 of 100\n",
      "building tree 53 of 100\n",
      "building tree 54 of 100\n",
      "building tree 55 of 100\n",
      "building tree 56 of 100\n",
      "building tree 57 of 100\n",
      "building tree 58 of 100\n",
      "building tree 59 of 100\n",
      "building tree 60 of 100\n",
      "building tree 61 of 100\n",
      "building tree 62 of 100\n",
      "building tree 63 of 100\n",
      "building tree 64 of 100\n",
      "building tree 65 of 100\n",
      "building tree 66 of 100\n",
      "building tree 67 of 100\n",
      "building tree 68 of 100\n",
      "building tree 69 of 100\n",
      "building tree 70 of 100\n",
      "building tree 71 of 100\n",
      "building tree 72 of 100\n",
      "building tree 73 of 100\n",
      "building tree 74 of 100\n",
      "building tree 75 of 100\n",
      "building tree 76 of 100\n",
      "building tree 77 of 100\n",
      "building tree 78 of 100\n",
      "building tree 79 of 100\n",
      "building tree 80 of 100\n",
      "building tree 81 of 100\n",
      "building tree 82 of 100\n",
      "building tree 83 of 100\n",
      "building tree 84 of 100\n",
      "building tree 85 of 100\n",
      "building tree 86 of 100\n",
      "building tree 87 of 100\n",
      "building tree 88 of 100\n",
      "building tree 89 of 100\n",
      "building tree 90 of 100\n",
      "building tree 91 of 100\n",
      "building tree 92 of 100\n",
      "building tree 93 of 100\n",
      "building tree 94 of 100\n",
      "building tree 95 of 100\n",
      "building tree 96 of 100\n",
      "building tree 97 of 100\n",
      "building tree 98 of 100\n",
      "building tree 99 of 100\n",
      "building tree 100 of 100\n"
     ]
    },
    {
     "name": "stderr",
     "output_type": "stream",
     "text": [
      "[Parallel(n_jobs=-1)]: Done 100 out of 100 | elapsed:   11.0s finished\n",
      "[Parallel(n_jobs=4)]: Done  33 tasks      | elapsed:    0.1s\n",
      "[Parallel(n_jobs=4)]: Done 100 out of 100 | elapsed:    0.3s finished\n",
      "[Parallel(n_jobs=4)]: Done  33 tasks      | elapsed:    0.0s\n",
      "[Parallel(n_jobs=4)]: Done 100 out of 100 | elapsed:    0.1s finished\n"
     ]
    },
    {
     "name": "stdout",
     "output_type": "stream",
     "text": [
      "(39347, 3) [ 0.29321145  0.66553676  0.04125179]\n",
      "Done training model!\n"
     ]
    }
   ],
   "source": [
    "n_estimators = 100\n",
    "max_features = None\n",
    "max_depth = 17\n",
    "oob_score = True\n",
    "verbose = 2\n",
    "min_samples_leaf = 17\n",
    "n_jobs = -1\n",
    "\n",
    "expressStatus(\"Training random forest model with \" + str(n_estimators) + \" estimators and max depth \"+ str(max_depth) + \" and \" + str(train_X[0].shape[0]) + \" features\")\n",
    "rf = RandomForestClassifier(max_features=max_features, n_estimators=n_estimators, criterion='entropy', max_depth = max_depth, verbose = verbose, n_jobs=n_jobs, min_samples_leaf=min_samples_leaf, oob_score=oob_score)#, max_features=max_features\n",
    "rf.fit(train_X, train_y)\n",
    "\n",
    "train_predictions = rf.predict_proba(train_X)\n",
    "validation_predictions = rf.predict_proba(validation_X)\n",
    "\n",
    "\n",
    "print train_predictions.shape, train_predictions[0]\n",
    "expressStatus(\"Done training model!\")"
   ]
  },
  {
   "cell_type": "code",
   "execution_count": 113,
   "metadata": {
    "collapsed": false
   },
   "outputs": [
    {
     "name": "stdout",
     "output_type": "stream",
     "text": [
      "Cross entropy loss on train data: 0.3761130245\n",
      "Cross entropy loss on validation data: 0.543418635311\n"
     ]
    }
   ],
   "source": [
    "print 'Cross entropy loss on train data:', log_loss(train_y, train_predictions)\n",
    "print 'Cross entropy loss on validation data:', log_loss(validation_y, validation_predictions)"
   ]
  },
  {
   "cell_type": "code",
   "execution_count": 114,
   "metadata": {
    "collapsed": false
   },
   "outputs": [
    {
     "name": "stderr",
     "output_type": "stream",
     "text": [
      "[Parallel(n_jobs=4)]: Done  33 tasks      | elapsed:    0.2s\n",
      "[Parallel(n_jobs=4)]: Done 100 out of 100 | elapsed:    0.5s finished\n"
     ]
    }
   ],
   "source": [
    "test_predictions = np.array(rf.predict_proba(test_X))"
   ]
  },
  {
   "cell_type": "code",
   "execution_count": 116,
   "metadata": {
    "collapsed": false
   },
   "outputs": [
    {
     "name": "stdout",
     "output_type": "stream",
     "text": [
      "[[ 0.53971962  0.36017488  0.1001055 ]\n",
      " [ 0.88130534  0.10663136  0.0120633 ]\n",
      " [ 0.90604354  0.08814643  0.00581002]\n",
      " [ 0.61318152  0.28249989  0.1043186 ]\n",
      " [ 0.64850524  0.32658485  0.02490991]\n",
      " [ 0.97673788  0.02326212  0.        ]\n",
      " [ 0.45131092  0.48728216  0.06140692]\n",
      " [ 0.67468341  0.22868983  0.09662675]\n",
      " [ 0.52655208  0.30465021  0.16879771]\n",
      " [ 0.79240135  0.17816945  0.0294292 ]]\n"
     ]
    }
   ],
   "source": [
    "output = open('result.txt', 'w')\n",
    "output.write(\"listing_id,high,medium,low\\n\")\n",
    "for i in range(len(test_X)):\n",
    "    output.write(str(int(test_features[i][22])) + ',' + str(test_predictions[i][2]) + ',' + str(test_predictions[i][1]) + ',' + str(test_predictions[i][0]) + '\\n')\n",
    "output.close()\n",
    "\n",
    "print test_predictions[:10]"
   ]
  },
  {
   "cell_type": "code",
   "execution_count": 65,
   "metadata": {
    "collapsed": false
   },
   "outputs": [
    {
     "name": "stdout",
     "output_type": "stream",
     "text": [
      "bathrooms 1.0\n",
      "interest_building_high 0.0\n",
      "interest_manager_count 24.0\n",
      "distance from city center 0.0690372906913\n",
      "interest_building_low 0.0\n",
      "wage 17123.723916\n",
      "ari of desciption 29.0\n",
      "density 92511.3636364\n",
      "number of features 6.0\n",
      "latitude 40.7185\n",
      "interest_building_medium 1.0\n",
      "unix timestamp 1465648181.0\n",
      "price 2950.0\n",
      "bedrooms 1.0\n",
      "interest_building_count 3.0\n",
      "interest_manager_high 0.208333333333\n",
      "population 81410.0\n",
      "tfidf of description 0.128830284552\n",
      "interest_manager_medium 0.333333333333\n",
      "longitude -73.9865\n",
      "number of photos 8.0\n",
      "interest_manager_low 0.458333333333\n"
     ]
    }
   ],
   "source": [
    "for name in test_feature_index:\n",
    "    print name, test_features[0][test_feature_index[name]]"
   ]
  },
  {
   "cell_type": "code",
   "execution_count": null,
   "metadata": {
    "collapsed": true
   },
   "outputs": [],
   "source": []
  }
 ],
 "metadata": {
  "kernelspec": {
   "display_name": "Python 2",
   "language": "python",
   "name": "python2"
  },
  "language_info": {
   "codemirror_mode": {
    "name": "ipython",
    "version": 2
   },
   "file_extension": ".py",
   "mimetype": "text/x-python",
   "name": "python",
   "nbconvert_exporter": "python",
   "pygments_lexer": "ipython2",
   "version": "2.7.12"
  }
 },
 "nbformat": 4,
 "nbformat_minor": 2
}
