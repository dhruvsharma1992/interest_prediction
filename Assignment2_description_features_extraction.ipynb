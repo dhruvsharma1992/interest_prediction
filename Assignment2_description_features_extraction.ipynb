{
 "cells": [
  {
   "cell_type": "code",
   "execution_count": 113,
   "metadata": {
    "collapsed": false
   },
   "outputs": [],
   "source": [
    "import pandas\n",
    "import numpy as np\n",
    "import urllib\n",
    "import googlemaps\n",
    "import json\n",
    "import time, datetime\n",
    "from sklearn.feature_extraction.text import TfidfVectorizer\n",
    "import nltk\n",
    "from nltk.stem.porter import *\n",
    "import string\n",
    "from string import punctuation\n",
    "from bs4 import BeautifulSoup\n",
    "import math\n",
    "from sklearn.ensemble import RandomForestClassifier\n",
    "import pickle\n",
    "import os\n",
    "import random\n",
    "from sklearn.metrics  import log_loss\n",
    "from sklearn.multiclass import OneVsRestClassifier\n",
    "from sklearn.cluster import KMeans"
   ]
  },
  {
   "cell_type": "code",
   "execution_count": 2,
   "metadata": {
    "collapsed": false
   },
   "outputs": [],
   "source": [
    "# panda_data = pandas.read_json('../train.json')\n",
    "# panda_test_data = pandas.read_json('test.json')"
   ]
  },
  {
   "cell_type": "code",
   "execution_count": 3,
   "metadata": {
    "collapsed": true
   },
   "outputs": [],
   "source": [
    "# with open('records.json', 'w') as outfile:\n",
    "#     json.dump(json.loads(panda_data.to_json(orient='records')), outfile)\n",
    "    \n",
    "# with open('records_test.json', 'w') as outfile:\n",
    "#     json.dump(json.loads(panda_test_data.to_json(orient='records')), outfile)"
   ]
  },
  {
   "cell_type": "code",
   "execution_count": 3,
   "metadata": {
    "collapsed": true
   },
   "outputs": [],
   "source": [
    "def expressStatus(status):\n",
    "    print status\n",
    "    os.system('say \"' + str(status) + '\"')\n",
    "    "
   ]
  },
  {
   "cell_type": "code",
   "execution_count": 15,
   "metadata": {
    "collapsed": false
   },
   "outputs": [],
   "source": [
    "# def parseData(fname):\n",
    "#     for l in urllib.urlopen(fname):\n",
    "#         yield eval(l)\n",
    "        \n",
    "# data = np.transpose(list(parseData('records.json')))\n",
    "# test_data = np.transpose(list(parseData('records_test.json')))"
   ]
  },
  {
   "cell_type": "code",
   "execution_count": 6,
   "metadata": {
    "collapsed": false
   },
   "outputs": [
    {
     "name": "stdout",
     "output_type": "stream",
     "text": [
      "1 . display_address : Metropolitan Avenue\n",
      "2 . description : A Brand New 3 Bedroom 1.5 bath ApartmentEnjoy These Following Apartment Features As You Rent Here? Modern Designed Bathroom w/ a Deep Spa Soaking Tub? Room to Room AC/Heat? Real Oak Hardwood Floors? Rain Forest Shower Head? SS steel Appliances w/ Chef Gas Cook Oven & LG Fridge? washer /dryer in the apt? Cable Internet Ready? Granite Counter Top Kitchen w/ lot of cabinet storage spaceIt's Just A Few blocks To L Train<br /><br />Don't miss out!<br /><br />We have several great apartments in the immediate area.<br /><br />For additional information 687-878-2229<p><a  website_redacted \n",
      "3 . price : 3000\n",
      "4 . bedrooms : 3\n",
      "5 . photos : ['https://photos.renthop.com/2/7211212_1ed4542ec81621d70d1061aa833e669c.jpg', 'https://photos.renthop.com/2/7211212_7dfc41dced69245065df83d08eed4a00.jpg', 'https://photos.renthop.com/2/7211212_c17853c4b869af6f53af08b0f5820b4c.jpg', 'https://photos.renthop.com/2/7211212_787ad8ea0c089792e7453e2121f8ac89.jpg', 'https://photos.renthop.com/2/7211212_2e88b0d293ee333c804c2f00536eee49.jpg']\n",
      "6 . bathrooms : 1.5\n",
      "7 . features : []\n",
      "8 . listing_id : 7211212\n",
      "9 . building_id : 53a5b119ba8f7b61d4e010512e0dfc85\n",
      "10 . created : 2016-06-24 07:54:24\n",
      "11 . longitude : -73.9425\n",
      "12 . manager_id : 5ba989232d0489da1b5f2c45f6688adc\n",
      "13 . latitude : 40.7145\n",
      "14 . interest_level : medium\n",
      "15 . street_address : 792 Metropolitan Avenue\n"
     ]
    }
   ],
   "source": [
    "for i, k in enumerate(data[0][0]):\n",
    "    print i+1, '.', k, ':', data[0][0][k]\n"
   ]
  },
  {
   "cell_type": "code",
   "execution_count": 5,
   "metadata": {
    "collapsed": false
   },
   "outputs": [],
   "source": [
    "# def stem_tokens(tokens, stemmer):\n",
    "#     stemmed = []\n",
    "#     for item in tokens:\n",
    "#         stemmed.append(stemmer.stem(item))\n",
    "#     return stemmed\n",
    "\n",
    "# def tokenize(text, stemmer=PorterStemmer()):\n",
    "#     tokens = nltk.word_tokenize(text)\n",
    "#     stems = stem_tokens(tokens, stemmer)\n",
    "#     return stems\n",
    "\n",
    "# tfidf = TfidfVectorizer(tokenizer=tokenize, stop_words='english')\n",
    "\n",
    "# def trainTfIdfModel(strings):\n",
    "#     content = np.array([])\n",
    "#     tfIdfScores = np.array([])\n",
    "#     print 'Preprocessing Data'\n",
    "#     for s in strings:\n",
    "#         t = \" \".join(item.strip() for item in BeautifulSoup(s).find_all(text=True))\n",
    "#         t = str(''.join([i if ord(i) < 128 else ' ' for i in t]))\n",
    "#         replace_punctuation = string.maketrans(punctuation, ' '*len(punctuation))\n",
    "#         transformed_string = t.lower().translate(replace_punctuation)\n",
    "#         content = np.append(content, transformed_string)\n",
    "     \n",
    "#     print 'Started Training'\n",
    "#     tfs = tfidf.fit_transform(content)\n",
    "\n",
    "# trainTfIdfModel([d[0]['description'] for d in data])\n",
    "\n",
    "# def getTransformedtfIdfScore(review):\n",
    "#     t = \" \".join(item.strip() for item in BeautifulSoup(review).find_all(text=True))\n",
    "#     t = str(''.join([i if ord(i) < 128 else ' ' for i in t]))\n",
    "#     replace_punctuation = string.maketrans(punctuation, ' '*len(punctuation))\n",
    "#     transformed_string = t.lower().translate(replace_punctuation)\n",
    "#     response = tfidf.transform([transformed_string])\n",
    "    \n",
    "# #     feature_names = tfidf.get_feature_names()\n",
    "# #     for col in response.nonzero()[1]:\n",
    "# #         print feature_names[col], ' - ', response[0, col]\n",
    "    \n",
    "# #     print response.nonzero()[1]\n",
    "#     if float(response.nonzero()[1].shape[0]) == 0:\n",
    "#         return 0\n",
    "#     return float(np.sum([response[0, col] for col in response.nonzero()[1]])) / float(response.nonzero()[1].shape[0])"
   ]
  },
  {
   "cell_type": "code",
   "execution_count": 16,
   "metadata": {
    "collapsed": false
   },
   "outputs": [],
   "source": [
    "# def getARI(string):\n",
    "#     string = \" \".join(item.strip() for item in BeautifulSoup(string).find_all(text=True))\n",
    "#     string = str(''.join([i if ord(i) < 128 else ' ' for i in string]))\n",
    "#     s_count = float(len(nltk.sent_tokenize(string)))\n",
    "#     w_count = float(len(nltk.wordpunct_tokenize(string)))\n",
    "#     c_count = float(len(string))\n",
    "    \n",
    "#     if s_count == 0:\n",
    "#         return 12\n",
    "    \n",
    "#     return math.ceil((4.71*(c_count/w_count)) + (0.5*(w_count/s_count)) - 21.43)\n",
    "\n",
    "\n",
    "\n",
    "# def GetFeatures(data):\n",
    "#     structured_data = []\n",
    "#     index = 1\n",
    "#     for d in data:\n",
    "#         feat = []\n",
    "#         if index % 10000 == 1:\n",
    "#             print 'Starting', index\n",
    "            \n",
    "#         feat.append(time.mktime(datetime.datetime.strptime(d[0]['created'], \"%Y-%m-%d %H:%M:%S\").timetuple()))\n",
    "#         feat.append(getTransformedtfIdfScore(d[0]['description']))\n",
    "#         feat.append(getARI(d[0]['description']))\n",
    "#         structured_data.append(feat)\n",
    "#         if index % 10000 == 1:\n",
    "#             print 'Done', index\n",
    "#         index += 1\n",
    "    \n",
    "#     return structured_data"
   ]
  },
  {
   "cell_type": "code",
   "execution_count": 17,
   "metadata": {
    "collapsed": false
   },
   "outputs": [
    {
     "name": "stdout",
     "output_type": "stream",
     "text": [
      "Starting 1\n",
      "Done 1\n",
      "Starting 10001\n",
      "Done 10001\n",
      "Starting 20001\n",
      "Done 20001\n",
      "Starting 30001\n",
      "Done 30001\n",
      "Starting 40001\n",
      "Done 40001\n",
      "Starting 1\n",
      "Done 1\n",
      "Starting 10001\n",
      "Done 10001\n",
      "Starting 20001\n",
      "Done 20001\n",
      "Starting 30001\n",
      "Done 30001\n",
      "Starting 40001\n",
      "Done 40001\n",
      "Starting 50001\n",
      "Done 50001\n",
      "Starting 60001\n",
      "Done 60001\n",
      "Starting 70001\n",
      "Done 70001\n"
     ]
    }
   ],
   "source": [
    "# new_data = GetFeatures(data)\n",
    "# new_test_data = GetFeatures(test_data)"
   ]
  },
  {
   "cell_type": "code",
   "execution_count": 19,
   "metadata": {
    "collapsed": false
   },
   "outputs": [
    {
     "name": "stdout",
     "output_type": "stream",
     "text": [
      " [1466780064.0, 0.10791517320475999, 6.0]\n",
      "(49352, 3)\n",
      "[1465648181.0, 0.12883028455155554, 29.0]\n",
      "(74659, 3)\n"
     ]
    }
   ],
   "source": [
    "print new_data[0]\n",
    "print np.array(new_data).shape\n",
    "\n",
    "print new_test_data[0]\n",
    "print np.array(new_test_data).shape"
   ]
  },
  {
   "cell_type": "code",
   "execution_count": 20,
   "metadata": {
    "collapsed": true
   },
   "outputs": [],
   "source": [
    "np.save('ut_tfidf_ari_train', new_data)\n",
    "np.save('ut_tfidf_ari_test', new_test_data)"
   ]
  },
  {
   "cell_type": "code",
   "execution_count": 114,
   "metadata": {
    "collapsed": false
   },
   "outputs": [
    {
     "name": "stdout",
     "output_type": "stream",
     "text": [
      "KMeans-LatLong 26\n",
      "bathrooms 0\n",
      "interest_building_high 9\n",
      "interest_manager_count 6\n",
      "distance from city center 14\n",
      "interest_building_low 7\n",
      "wage 18\n",
      "ari of desciption 21\n",
      "density 2\n",
      "interest level 22\n",
      "number of features 11\n",
      "latitude 12\n",
      "interest_building_medium 8\n",
      "unix timestamp 19\n",
      "price 17\n",
      "bedrooms 1\n",
      "building id 23\n",
      "interest_building_count 10\n",
      "interest_manager_high 5\n",
      "population 16\n",
      "#bedrooms / (#bedrooms + #bathrooms + 1) 25\n",
      "tfidf of description 20\n",
      "interest_manager_medium 4\n",
      "longitude 13\n",
      "manager id 24\n",
      "number of photos 15\n",
      "interest_manager_low 3\n"
     ]
    }
   ],
   "source": [
    "feature_names = []\n",
    "\n",
    "feature_names.append('bathrooms'),#0\n",
    "feature_names.append('bedrooms'),#1\n",
    "feature_names.append('density'),#2\n",
    "feature_names.append('interest_manager_low'),#3\n",
    "feature_names.append('interest_manager_medium'),#4\n",
    "feature_names.append('interest_manager_high'),#5\n",
    "feature_names.append('interest_manager_count'),#6\n",
    "feature_names.append('interest_building_low'),#7\n",
    "feature_names.append('interest_building_medium'),#8\n",
    "feature_names.append('interest_building_high'),#9\n",
    "feature_names.append('interest_building_count'),#10\n",
    "feature_names.append('number of features'),#11\n",
    "feature_names.append('latitude'),#12\n",
    "feature_names.append('longitude'),#13\n",
    "feature_names.append('distance from city center'),#14\n",
    "feature_names.append('number of photos'),#15\n",
    "feature_names.append('population'),#16\n",
    "feature_names.append('price'),#17\n",
    "feature_names.append('wage'),#18\n",
    "feature_names.append('unix timestamp'),#19\n",
    "feature_names.append('tfidf of description'),#20\n",
    "feature_names.append('ari of desciption'),#21,\n",
    "feature_names.append('interest level')#22\n",
    "feature_names.append('building id'),#21,\n",
    "feature_names.append('manager id')#22\n",
    "feature_names.append('#bedrooms / (#bedrooms + #bathrooms + 1)')#21,\n",
    "feature_names.append('KMeans-LatLong')#21,\n",
    "                                                 \n",
    "np.save('feature_names', feature_names)\n",
    "all_features = np.load('feature_names.npy')\n",
    "train_feature_index = dict([(v,i) for i,v in enumerate(all_features)])\n",
    "for feature in train_feature_index:\n",
    "    print feature, train_feature_index[feature]"
   ]
  },
  {
   "cell_type": "code",
   "execution_count": 115,
   "metadata": {
    "collapsed": false
   },
   "outputs": [
    {
     "name": "stdout",
     "output_type": "stream",
     "text": [
      "(27,)\n"
     ]
    }
   ],
   "source": [
    "print all_features.shape"
   ]
  },
  {
   "cell_type": "code",
   "execution_count": 116,
   "metadata": {
    "collapsed": false
   },
   "outputs": [
    {
     "name": "stdout",
     "output_type": "stream",
     "text": [
      "KMeans-LatLong 25\n",
      "bathrooms 0\n",
      "interest_building_high 9\n",
      "interest_manager_count 6\n",
      "distance from city center 14\n",
      "interest_building_low 7\n",
      "wage 18\n",
      "ari of desciption 21\n",
      "density 2\n",
      "number of features 11\n",
      "latitude 12\n",
      "interest_building_medium 8\n",
      "unix timestamp 19\n",
      "price 17\n",
      "bedrooms 1\n",
      "building id 22\n",
      "interest_building_count 10\n",
      "interest_manager_high 5\n",
      "population 16\n",
      "#bedrooms / (#bedrooms + #bathrooms + 1) 24\n",
      "tfidf of description 20\n",
      "interest_manager_medium 4\n",
      "longitude 13\n",
      "manager id 23\n",
      "number of photos 15\n",
      "interest_manager_low 3\n"
     ]
    }
   ],
   "source": [
    "feature_names_test = []\n",
    "\n",
    "feature_names_test.append('bathrooms'),#0\n",
    "feature_names_test.append('bedrooms'),#1\n",
    "feature_names_test.append('density'),#2\n",
    "feature_names_test.append('interest_manager_low'),#3\n",
    "feature_names_test.append('interest_manager_medium'),#4\n",
    "feature_names_test.append('interest_manager_high'),#5\n",
    "feature_names_test.append('interest_manager_count'),#6\n",
    "feature_names_test.append('interest_building_low'),#7\n",
    "feature_names_test.append('interest_building_medium'),#8\n",
    "feature_names_test.append('interest_building_high'),#9\n",
    "feature_names_test.append('interest_building_count'),#10\n",
    "feature_names_test.append('number of features'),#11\n",
    "feature_names_test.append('latitude'),#12\n",
    "feature_names_test.append('longitude'),#13\n",
    "feature_names_test.append('distance from city center'),#14\n",
    "feature_names_test.append('number of photos'),#15\n",
    "feature_names_test.append('population'),#16\n",
    "feature_names_test.append('price'),#17\n",
    "feature_names_test.append('wage')#18\n",
    "feature_names_test.append('unix timestamp'),#19\n",
    "feature_names_test.append('tfidf of description'),#20\n",
    "feature_names_test.append('ari of desciption')#21,\n",
    "feature_names_test.append('building id'),#20\n",
    "feature_names_test.append('manager id')#21,\n",
    "feature_names_test.append('#bedrooms / (#bedrooms + #bathrooms + 1)')#21,\n",
    "feature_names_test.append('KMeans-LatLong')#21,\n",
    "\n",
    "np.save('feature_names_test', feature_names_test)\n",
    "\n",
    "all_features_test = np.load('feature_names_test.npy')\n",
    "test_feature_index = dict([(v,i) for i,v in enumerate(all_features_test)])\n",
    "for feature in test_feature_index:\n",
    "    print feature, test_feature_index[feature]"
   ]
  },
  {
   "cell_type": "code",
   "execution_count": 138,
   "metadata": {
    "collapsed": false
   },
   "outputs": [],
   "source": [
    "chosen_feature_indices = dict()\n",
    "def extract_features(datum, index_dictionary, first_building_review_time, first_manager_review_time):\n",
    "    feat = []\n",
    "    index = 0\n",
    "#     feat.append(datum[index_dictionary['bathrooms']])\n",
    "#     chosen_feature_indices[index] = 'bathrooms'\n",
    "#     index += 1\n",
    "    \n",
    "#     feat.append(datum[index_dictionary['bedrooms']])\n",
    "#     chosen_feature_indices[index] = 'bedrooms'\n",
    "#     index += 1\n",
    "    \n",
    "    feat.append(datum[index_dictionary['interest_manager_count']])\n",
    "    chosen_feature_indices[index] = 'interest_manager_count'\n",
    "    index += 1\n",
    "    \n",
    "    feat.append(datum[index_dictionary['interest_building_count']])\n",
    "    chosen_feature_indices[index] = 'interest_building_count'\n",
    "    index += 1\n",
    "    \n",
    "    feat.append(datum[index_dictionary['distance from city center']])\n",
    "    chosen_feature_indices[index] = 'distance from city center'\n",
    "    index += 1\n",
    "    \n",
    "    feat.append(datum[index_dictionary['wage']])\n",
    "    chosen_feature_indices[index] = 'wage'\n",
    "    index += 1\n",
    "    \n",
    "    feat.append(datum[index_dictionary['price']])\n",
    "    chosen_feature_indices[index] = 'price'\n",
    "    index += 1\n",
    "    \n",
    "    feat.append(datum[index_dictionary['ari of desciption']])\n",
    "    chosen_feature_indices[index] = 'ari of desciption'\n",
    "    index += 1\n",
    "    \n",
    "    feat.append(datum[index_dictionary['density']])\n",
    "    chosen_feature_indices[index] = 'density'\n",
    "    index += 1\n",
    "    \n",
    "    feat.append(datum[index_dictionary['number of features']])\n",
    "    chosen_feature_indices[index] = 'number of features'\n",
    "    index += 1\n",
    "    \n",
    "    feat.append(datum[index_dictionary['unix timestamp']])\n",
    "    chosen_feature_indices[index] = 'unix timestamp'\n",
    "    index += 1\n",
    "    \n",
    "    feat.append(datum[index_dictionary['population']])\n",
    "    chosen_feature_indices[index] = 'population'\n",
    "    index += 1\n",
    "    \n",
    "    feat.append(datum[index_dictionary['tfidf of description']])\n",
    "    chosen_feature_indices[index] = 'tfidf of description'\n",
    "    index += 1\n",
    "    \n",
    "    feat.append(datum[index_dictionary['number of photos']])\n",
    "    chosen_feature_indices[index] = 'number of photos'\n",
    "    index += 1\n",
    "    \n",
    "    \n",
    "#     feat.append(datum[index_dictionary['latitude']])\n",
    "#     chosen_feature_indices[index] = 'latitude'\n",
    "#     index += 1\n",
    "    \n",
    "#     feat.append(datum[index_dictionary['longitude']])\n",
    "#     chosen_feature_indices[index] = 'longitude'\n",
    "#     index += 1\n",
    "    \n",
    "    feat.append(float(datum[index_dictionary['bedrooms']])/(1 + datum[index_dictionary['bedrooms']] + datum[index_dictionary['bathrooms']]))\n",
    "    chosen_feature_indices[index] = '#bedrooms / (#bedrooms + #bathrooms + 1)'\n",
    "    index += 1\n",
    "    \n",
    "    if first_building_review_time.get(datum[index_dictionary['building id']], -1) == -1:\n",
    "        feat.append(datum[index_dictionary['unix timestamp']])\n",
    "    else:\n",
    "        feat.append(first_building_review_time[datum[index_dictionary['building id']]])\n",
    "    chosen_feature_indices[index] = 'first building review time'\n",
    "    index += 1\n",
    "    \n",
    "    if first_manager_review_time.get(datum[index_dictionary['manager id']], -1) == -1:\n",
    "        feat.append(datum[index_dictionary['unix timestamp']])\n",
    "    else:\n",
    "        feat.append(first_manager_review_time[datum[index_dictionary['manager id']]])\n",
    "    chosen_feature_indices[index] = 'first manager review time'\n",
    "    index += 1\n",
    "    \n",
    "    feat.append(float(datum[index_dictionary['price']])/(datum[index_dictionary['bedrooms']] + 1))\n",
    "    chosen_feature_indices[index] = 'average bedroom price'\n",
    "    index += 1\n",
    "    \n",
    "    feat.append(float(datum[index_dictionary['price']])/(datum[index_dictionary['bathrooms']] + 1))\n",
    "    chosen_feature_indices[index] = 'average bathroom price'\n",
    "    index += 1\n",
    "    \n",
    "    feat.append(float(datum[index_dictionary['price']])/(datum[index_dictionary['bathrooms']] + datum[index_dictionary['bedrooms']] + 1))\n",
    "    chosen_feature_indices[index] = 'average (bathroom + bedrooms) price'\n",
    "    index += 1\n",
    "\n",
    "    \n",
    "#     feat.append(2*datum[index_dictionary['interest_building_high']] +\n",
    "#                 1*datum[index_dictionary['interest_building_medium']] +\n",
    "#                 0*datum[index_dictionary['interest_building_low']])\n",
    "#     chosen_feature_indices[index] = 'building expectation'\n",
    "#     index += 1\n",
    "    \n",
    "#     feat.append(2*datum[index_dictionary['interest_manager_high']] +\n",
    "#                 1*datum[index_dictionary['interest_manager_medium']] +\n",
    "#                 0*datum[index_dictionary['interest_manager_low']])\n",
    "#     chosen_feature_indices[index] = 'manager expectation'\n",
    "#     index += 1\n",
    "    \n",
    "    return feat"
   ]
  },
  {
   "cell_type": "code",
   "execution_count": 139,
   "metadata": {
    "collapsed": false
   },
   "outputs": [],
   "source": [
    "def truncate_data(data, index_dictionary):\n",
    "    data = np.array([d for d in data if d[index_dictionary['distance from city center']] < 0.2])\n",
    "    return data\n"
   ]
  },
  {
   "cell_type": "code",
   "execution_count": 140,
   "metadata": {
    "collapsed": false
   },
   "outputs": [
    {
     "name": "stdout",
     "output_type": "stream",
     "text": [
      "(49352, 44) (27,)\n",
      "(74659, 44) (26,)\n",
      "(39360, 20) (74659, 20) (39360,) (9870, 20) (9870,)\n"
     ]
    }
   ],
   "source": [
    "data_features = np.load('featureX.npy')\n",
    "first_building_review_time = dict()\n",
    "first_manager_review_time = dict()\n",
    "unique_buildings = np.unique(data_features[:,train_feature_index['building id']])\n",
    "unique_managers = np.unique(data_features[:,train_feature_index['manager id']])\n",
    "\n",
    "for building in unique_buildings:\n",
    "    first_building_review_time[building] = np.min([d[train_feature_index['unix timestamp']] for d in data_features if d[train_feature_index['building id']] == building]) \n",
    "\n",
    "for manager in unique_managers:\n",
    "    first_manager_review_time[manager] = np.min([d[train_feature_index['unix timestamp']] for d in data_features if d[train_feature_index['manager id']] == manager]) \n",
    "\n",
    "    \n",
    "print data_features.shape, all_features.shape\n",
    "random.shuffle(data_features)\n",
    "validation_count = int(data_features.shape[0] * 0.2)\n",
    "train_data = truncate_data(data_features[:-validation_count], train_feature_index)\n",
    "train_X = np.array([extract_features(d, train_feature_index, first_building_review_time, first_manager_review_time) for d in train_data])\n",
    "train_y = np.array([d[train_feature_index['interest level']] for d in train_data])\n",
    "\n",
    "\n",
    "validation_X = np.array([extract_features(d, train_feature_index, first_building_review_time, first_manager_review_time) for d in data_features[-validation_count:]])\n",
    "validation_y = np.array([d[train_feature_index['interest level']] for d in data_features[-validation_count:]])\n",
    "\n",
    "test_features = np.load('X_test.npy')\n",
    "print test_features.shape, all_features_test.shape\n",
    "test_X = np.array([extract_features(d, test_feature_index, first_building_review_time, first_manager_review_time) for d in test_features])\n",
    "print train_X.shape, test_X.shape, train_y.shape, validation_X.shape, validation_y.shape"
   ]
  },
  {
   "cell_type": "code",
   "execution_count": 141,
   "metadata": {
    "collapsed": false,
    "scrolled": true
   },
   "outputs": [
    {
     "name": "stdout",
     "output_type": "stream",
     "text": [
      "Training random forest model with 200 estimators and max depth 17 and 20 features\n",
      "building tree 1 of 200\n",
      "building tree 2 of 200building tree 3 of 200building tree 4 of 200\n",
      "\n",
      "\n",
      "building tree 5 of 200\n",
      "building tree 6 of 200\n",
      " building tree 7 of 200\n",
      "building tree 8 of 200\n",
      "building tree 9 of 200building tree 10 of 200\n",
      "\n",
      "building tree 11 of 200building tree 12 of 200\n",
      "\n",
      "building tree 13 of 200\n",
      "building tree 14 of 200\n",
      "building tree 15 of 200\n",
      "building tree 16 of 200\n",
      "building tree 17 of 200\n",
      "building tree 18 of 200\n",
      "building tree 19 of 200\n",
      "building tree 20 of 200\n",
      "building tree 21 of 200\n",
      "building tree 22 of 200\n",
      "building tree 23 of 200\n",
      "building tree 24 of 200\n",
      "building tree 25 of 200\n",
      "building tree 26 of 200\n",
      "building tree 27 of 200\n",
      "building tree 28 of 200\n",
      "building tree 29 of 200\n",
      "building tree 30 of 200\n",
      "building tree 31 of 200building tree 32 of 200\n",
      "\n",
      "building tree 33 of 200\n",
      "building tree 34 of 200\n",
      "building tree 35 of 200\n",
      "building tree 36 of 200\n"
     ]
    },
    {
     "name": "stderr",
     "output_type": "stream",
     "text": [
      "[Parallel(n_jobs=-1)]: Done  33 tasks      | elapsed:    4.2s\n"
     ]
    },
    {
     "name": "stdout",
     "output_type": "stream",
     "text": [
      "building tree 37 of 200\n",
      "building tree 38 of 200\n",
      "building tree 39 of 200\n",
      "building tree 40 of 200\n",
      "building tree 41 of 200\n",
      "building tree 42 of 200\n",
      "building tree 43 of 200\n",
      "building tree 44 of 200\n",
      "building tree 45 of 200\n",
      "building tree 46 of 200\n",
      "building tree 47 of 200\n",
      "building tree 48 of 200\n",
      "building tree 49 of 200\n",
      "building tree 50 of 200\n",
      "building tree 51 of 200\n",
      "building tree 52 of 200\n",
      "building tree 53 of 200\n",
      "building tree 54 of 200\n",
      "building tree 55 of 200\n",
      "building tree 56 of 200\n",
      "building tree 57 of 200\n",
      "building tree 58 of 200\n",
      "building tree 59 of 200\n",
      "building tree 60 of 200\n",
      "building tree 61 of 200\n",
      "building tree 62 of 200\n",
      "building tree 63 of 200\n",
      "building tree 64 of 200\n",
      "building tree 65 of 200\n",
      "building tree 66 of 200\n",
      "building tree 67 of 200\n",
      "building tree 68 of 200\n",
      "building tree 69 of 200\n",
      "building tree 70 of 200\n",
      "building tree 71 of 200\n",
      "building tree 72 of 200\n",
      "building tree 73 of 200\n",
      "building tree 74 of 200\n",
      "building tree 75 of 200\n",
      "building tree 76 of 200\n",
      "building tree 77 of 200\n",
      "building tree 78 of 200\n",
      "building tree 79 of 200\n",
      "building tree 80 of 200\n",
      "building tree 81 of 200\n",
      "building tree 82 of 200\n",
      "building tree 83 of 200\n",
      "building tree 84 of 200\n",
      "building tree 85 of 200\n",
      "building tree 86 of 200\n",
      "building tree 87 of 200\n",
      "building tree 88 of 200\n",
      "building tree 89 of 200\n",
      "building tree 90 of 200\n",
      "building tree 91 of 200\n",
      "building tree 92 of 200\n",
      "building tree 93 of 200\n",
      "building tree 94 of 200\n",
      "building tree 95 of 200\n",
      "building tree 96 of 200\n",
      "building tree 97 of 200\n",
      "building tree 98 of 200\n",
      "building tree 99 of 200\n",
      "building tree 100 of 200\n",
      "building tree 101 of 200\n",
      "building tree 102 of 200\n",
      "building tree 103 of 200\n",
      "building tree 104 of 200\n",
      "building tree 105 of 200\n",
      "building tree 106 of 200\n",
      "building tree 107 of 200\n",
      "building tree 108 of 200\n",
      "building tree 109 of 200\n",
      "building tree 110 of 200\n",
      "building tree 111 of 200\n",
      "building tree 112 of 200\n",
      "building tree 113 of 200\n",
      "building tree 114 of 200\n",
      "building tree 115 of 200\n",
      "building tree 116 of 200\n",
      "building tree 118 of 200building tree 117 of 200\n",
      "\n",
      "building tree 119 of 200\n",
      "building tree 120 of 200\n",
      "building tree 121 of 200\n",
      "building tree 122 of 200\n",
      "building tree 123 of 200\n",
      "building tree 124 of 200\n",
      "building tree 125 of 200\n",
      "building tree 126 of 200\n",
      "building tree 127 of 200\n",
      "building tree 128 of 200\n",
      "building tree 129 of 200\n",
      "building tree 130 of 200\n",
      "building tree 131 of 200\n",
      "building tree 132 of 200\n",
      "building tree 133 of 200\n",
      "building tree 134 of 200\n",
      "building tree 135 of 200\n",
      "building tree 136 of 200\n",
      "building tree 137 of 200\n",
      "building tree 138 of 200\n",
      "building tree 139 of 200\n",
      "building tree 140 of 200\n",
      "building tree 141 of 200\n",
      "building tree 142 of 200\n",
      "building tree 143 of 200\n",
      "building tree 144 of 200\n",
      "building tree 145 of 200\n",
      "building tree 146 of 200\n",
      "building tree 147 of 200\n",
      "building tree 148 of 200\n",
      "building tree 149 of 200\n",
      "building tree 150 of 200\n",
      "building tree 151 of 200\n",
      "building tree 152 of 200\n",
      "building tree 153 of 200\n",
      "building tree 154 of 200\n",
      "building tree 155 of 200\n",
      "building tree 156 of 200\n",
      "building tree 157 of 200\n",
      "building tree 158 of 200\n",
      "building tree 159 of 200\n",
      "building tree 160 of 200"
     ]
    },
    {
     "name": "stderr",
     "output_type": "stream",
     "text": [
      "[Parallel(n_jobs=-1)]: Done 154 tasks      | elapsed:   17.1s\n"
     ]
    },
    {
     "name": "stdout",
     "output_type": "stream",
     "text": [
      "\n",
      "building tree 161 of 200\n",
      "building tree 162 of 200\n",
      "building tree 163 of 200\n",
      "building tree 164 of 200\n",
      "building tree 165 of 200\n",
      "building tree 166 of 200\n",
      "building tree 167 of 200\n",
      "building tree 168 of 200\n",
      "building tree 169 of 200\n",
      "building tree 170 of 200\n",
      "building tree 171 of 200\n",
      "building tree 172 of 200\n",
      "building tree 173 of 200\n",
      "building tree 174 of 200\n",
      "building tree 175 of 200\n",
      "building tree 176 of 200\n",
      "building tree 177 of 200\n",
      "building tree 178 of 200\n",
      "building tree 179 of 200\n",
      "building tree 180 of 200\n",
      "building tree 181 of 200\n",
      "building tree 182 of 200\n",
      "building tree 183 of 200\n",
      "building tree 184 of 200\n",
      "building tree 185 of 200\n",
      "building tree 186 of 200\n",
      "building tree 187 of 200\n",
      "building tree 188 of 200\n",
      "building tree 189 of 200\n",
      "building tree 190 of 200\n",
      "building tree 191 of 200\n",
      "building tree 192 of 200\n",
      "building tree 193 of 200\n",
      "building tree 194 of 200\n",
      "building tree 195 of 200\n",
      "building tree 196 of 200\n",
      "building tree 197 of 200\n",
      "building tree 198 of 200\n",
      "building tree 199 of 200\n",
      "building tree 200 of 200\n"
     ]
    },
    {
     "name": "stderr",
     "output_type": "stream",
     "text": [
      "[Parallel(n_jobs=-1)]: Done 200 out of 200 | elapsed:   22.1s finished\n",
      "[Parallel(n_jobs=4)]: Done  33 tasks      | elapsed:    0.1s\n",
      "[Parallel(n_jobs=4)]: Done 154 tasks      | elapsed:    0.4s\n",
      "[Parallel(n_jobs=4)]: Done 200 out of 200 | elapsed:    0.5s finished\n",
      "[Parallel(n_jobs=4)]: Done  33 tasks      | elapsed:    0.0s\n",
      "[Parallel(n_jobs=4)]: Done 154 tasks      | elapsed:    0.2s\n",
      "[Parallel(n_jobs=4)]: Done 200 out of 200 | elapsed:    0.3s finished\n"
     ]
    },
    {
     "name": "stdout",
     "output_type": "stream",
     "text": [
      "(39360, 3) [ 0.24562859  0.72712906  0.02724234]\n",
      "Done training model!\n"
     ]
    }
   ],
   "source": [
    "n_estimators = 200\n",
    "max_features = None\n",
    "max_depth = 17\n",
    "oob_score = True\n",
    "verbose = 2\n",
    "min_samples_leaf = 17\n",
    "n_jobs = -1\n",
    "\n",
    "expressStatus(\"Training random forest model with \" + str(n_estimators) + \" estimators and max depth \"+ str(max_depth) + \" and \" + str(train_X[0].shape[0]) + \" features\")\n",
    "rf = RandomForestClassifier(max_features=max_features, n_estimators=n_estimators, criterion='entropy', max_depth = max_depth, verbose = verbose, n_jobs=n_jobs, min_samples_leaf=min_samples_leaf, oob_score=oob_score)#, max_features=max_features\n",
    "rf.fit(train_X, train_y)\n",
    "\n",
    "train_predictions = rf.predict_proba(train_X)\n",
    "validation_predictions = rf.predict_proba(validation_X)\n",
    "\n",
    "\n",
    "print train_predictions.shape, train_predictions[0]\n",
    "expressStatus(\"Done training model!\")\n"
   ]
  },
  {
   "cell_type": "code",
   "execution_count": 142,
   "metadata": {
    "collapsed": false
   },
   "outputs": [
    {
     "name": "stdout",
     "output_type": "stream",
     "text": [
      "average (bathroom + bedrooms) price 0.147013247649\n",
      "interest_building_count 0.115802185463\n",
      "price 0.0862177776407\n",
      "distance from city center 0.0837025081331\n",
      "tfidf of description 0.0690441072147\n",
      "unix timestamp 0.063756395202\n",
      "interest_manager_count 0.0621742721529\n",
      "average bathroom price 0.058637142865\n",
      "average bedroom price 0.0564781347019\n",
      "number of features 0.0486560730227\n",
      "number of photos 0.0438053278205\n",
      "ari of desciption 0.0424935287857\n",
      "wage 0.0336221486483\n",
      "density 0.0276698557733\n",
      "population 0.0236550401346\n",
      "first building review time 0.0184433142849\n",
      "first manager review time 0.0118807343042\n",
      "#bedrooms / (#bedrooms + #bathrooms + 1) 0.0029419975826\n",
      "bathrooms 0.00223652538794\n",
      "bedrooms 0.00176968323253\n"
     ]
    }
   ],
   "source": [
    "for i, value in sorted(enumerate(rf.feature_importances_), key=lambda x:abs(x[1]), reverse=True):\n",
    "    print chosen_feature_indices[i], value"
   ]
  },
  {
   "cell_type": "code",
   "execution_count": 143,
   "metadata": {
    "collapsed": false
   },
   "outputs": [
    {
     "name": "stdout",
     "output_type": "stream",
     "text": [
      "Cross entropy loss on train data: 0.363281258708\n",
      "Cross entropy loss on validation data: 0.520827622083\n"
     ]
    }
   ],
   "source": [
    "print 'Cross entropy loss on train data:', log_loss(train_y, train_predictions)\n",
    "print 'Cross entropy loss on validation data:', log_loss(validation_y, validation_predictions)"
   ]
  },
  {
   "cell_type": "code",
   "execution_count": 24,
   "metadata": {
    "collapsed": false
   },
   "outputs": [
    {
     "name": "stderr",
     "output_type": "stream",
     "text": [
      "[Parallel(n_jobs=4)]: Done  33 tasks      | elapsed:    0.3s\n",
      "[Parallel(n_jobs=4)]: Done 154 tasks      | elapsed:    0.9s\n",
      "[Parallel(n_jobs=4)]: Done 200 out of 200 | elapsed:    1.1s finished\n"
     ]
    }
   ],
   "source": [
    "test_predictions = np.array(rf.predict_proba(test_X))"
   ]
  },
  {
   "cell_type": "code",
   "execution_count": 26,
   "metadata": {
    "collapsed": false
   },
   "outputs": [
    {
     "name": "stdout",
     "output_type": "stream",
     "text": [
      "[[  7.33123290e-01   2.10948313e-01   5.59283969e-02]\n",
      " [  8.03923578e-01   1.78740231e-01   1.73361904e-02]\n",
      " [  8.83267976e-01   1.14743352e-01   1.98867161e-03]\n",
      " [  4.86324419e-01   4.23339492e-01   9.03360894e-02]\n",
      " [  8.55014039e-01   1.30915277e-01   1.40706833e-02]\n",
      " [  9.65918228e-01   3.35048490e-02   5.76923077e-04]\n",
      " [  5.18450979e-01   4.59734572e-01   2.18144487e-02]\n",
      " [  8.69000419e-01   1.02068567e-01   2.89310137e-02]\n",
      " [  6.42005663e-01   2.89877109e-01   6.81172275e-02]\n",
      " [  7.48751010e-01   2.33689997e-01   1.75589927e-02]]\n"
     ]
    }
   ],
   "source": [
    "output = open('result.txt', 'w')\n",
    "output.write(\"listing_id,high,medium,low\\n\")\n",
    "for i in range(len(test_X)):\n",
    "    output.write(str(int(test_features[i][22])) + ',' + str(test_predictions[i][2]) + ',' + str(test_predictions[i][1]) + ',' + str(test_predictions[i][0]) + '\\n')\n",
    "output.close()\n",
    "\n",
    "print test_predictions[:10]"
   ]
  },
  {
   "cell_type": "code",
   "execution_count": 65,
   "metadata": {
    "collapsed": false
   },
   "outputs": [
    {
     "name": "stdout",
     "output_type": "stream",
     "text": [
      "bathrooms 1.0\n",
      "interest_building_high 0.0\n",
      "interest_manager_count 24.0\n",
      "distance from city center 0.0690372906913\n",
      "interest_building_low 0.0\n",
      "wage 17123.723916\n",
      "ari of desciption 29.0\n",
      "density 92511.3636364\n",
      "number of features 6.0\n",
      "latitude 40.7185\n",
      "interest_building_medium 1.0\n",
      "unix timestamp 1465648181.0\n",
      "price 2950.0\n",
      "bedrooms 1.0\n",
      "interest_building_count 3.0\n",
      "interest_manager_high 0.208333333333\n",
      "population 81410.0\n",
      "tfidf of description 0.128830284552\n",
      "interest_manager_medium 0.333333333333\n",
      "longitude -73.9865\n",
      "number of photos 8.0\n",
      "interest_manager_low 0.458333333333\n"
     ]
    }
   ],
   "source": [
    "for name in test_feature_index:\n",
    "    print name, test_features[0][test_feature_index[name]]"
   ]
  },
  {
   "cell_type": "code",
   "execution_count": null,
   "metadata": {
    "collapsed": true
   },
   "outputs": [],
   "source": []
  }
 ],
 "metadata": {
  "kernelspec": {
   "display_name": "Python 2",
   "language": "python",
   "name": "python2"
  },
  "language_info": {
   "codemirror_mode": {
    "name": "ipython",
    "version": 2
   },
   "file_extension": ".py",
   "mimetype": "text/x-python",
   "name": "python",
   "nbconvert_exporter": "python",
   "pygments_lexer": "ipython2",
   "version": "2.7.12"
  }
 },
 "nbformat": 4,
 "nbformat_minor": 2
}
