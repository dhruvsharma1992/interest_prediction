{
 "cells": [
  {
   "cell_type": "code",
   "execution_count": 1,
   "metadata": {
    "collapsed": true
   },
   "outputs": [],
   "source": [
    "import numpy"
   ]
  },
  {
   "cell_type": "code",
   "execution_count": 6,
   "metadata": {
    "collapsed": true
   },
   "outputs": [],
   "source": [
    "np = numpy.load('ut_tfidf_ari.npy').tolist()"
   ]
  },
  {
   "cell_type": "code",
   "execution_count": 3,
   "metadata": {
    "collapsed": false
   },
   "outputs": [
    {
     "name": "stdout",
     "output_type": "stream",
     "text": [
      "[[  1.46678006e+09   1.07915173e-01   6.00000000e+00]\n",
      " [  1.46575917e+09   0.00000000e+00   1.20000000e+01]\n",
      " [  1.46088880e+09   1.16338876e-01   1.20000000e+01]\n",
      " ..., \n",
      " [  1.46079802e+09   1.47052111e-01   2.40000000e+01]\n",
      " [  1.46010681e+09   1.29704415e-01   1.50000000e+01]\n",
      " [  1.46045449e+09   1.05951515e-01   1.40000000e+01]]\n"
     ]
    }
   ],
   "source": [
    "print data"
   ]
  },
  {
   "cell_type": "code",
   "execution_count": 4,
   "metadata": {
    "collapsed": true
   },
   "outputs": [],
   "source": [
    "import pickle\n",
    "with open('data') as datafile :\n",
    "    data = pickle.load(datafile)"
   ]
  },
  {
   "cell_type": "code",
   "execution_count": 5,
   "metadata": {
    "collapsed": false
   },
   "outputs": [
    {
     "data": {
      "text/plain": [
       "{u'bathrooms': 1.5,\n",
       " u'bedrooms': 3,\n",
       " u'building_id': u'53a5b119ba8f7b61d4e010512e0dfc85',\n",
       " u'created': u'2016-06-24 07:54:24',\n",
       " 'density': 57116.783216783224,\n",
       " u'description': u\"A Brand New 3 Bedroom 1.5 bath ApartmentEnjoy These Following Apartment Features As You Rent Here? Modern Designed Bathroom w/ a Deep Spa Soaking Tub? Room to Room AC/Heat? Real Oak Hardwood Floors? Rain Forest Shower Head? SS steel Appliances w/ Chef Gas Cook Oven & LG Fridge? washer /dryer in the apt? Cable Internet Ready? Granite Counter Top Kitchen w/ lot of cabinet storage spaceIt's Just A Few blocks To L Train<br /><br />Don't miss out!<br /><br />We have several great apartments in the immediate area.<br /><br />For additional information 687-878-2229<p><a  website_redacted \",\n",
       " u'display_address': u'Metropolitan Avenue',\n",
       " u'features': [],\n",
       " 'int_building': [0.6666666666666666, 0.3333333333333333, 0.0, 3],\n",
       " 'int_manager': [0.7444444444444445, 0.25555555555555554, 0.0, 90],\n",
       " 'interest_building': [0.6666666666666666, 0.3333333333333333, 0.0, 3],\n",
       " 'interest_manager': [0.7444444444444445, 0.25555555555555554, 0.0, 90],\n",
       " u'latitude': 40.714500000000001,\n",
       " u'listing_id': 7211212,\n",
       " u'longitude': -73.942499999999995,\n",
       " u'manager_id': u'5ba989232d0489da1b5f2c45f6688adc',\n",
       " u'photos': [u'https://photos.renthop.com/2/7211212_1ed4542ec81621d70d1061aa833e669c.jpg',\n",
       "  u'https://photos.renthop.com/2/7211212_7dfc41dced69245065df83d08eed4a00.jpg',\n",
       "  u'https://photos.renthop.com/2/7211212_c17853c4b869af6f53af08b0f5820b4c.jpg',\n",
       "  u'https://photos.renthop.com/2/7211212_787ad8ea0c089792e7453e2121f8ac89.jpg',\n",
       "  u'https://photos.renthop.com/2/7211212_2e88b0d293ee333c804c2f00536eee49.jpg'],\n",
       " 'population': 81677,\n",
       " u'price': 3000,\n",
       " u'street_address': u'792 Metropolitan Avenue',\n",
       " 'wage': 9249.01367582061}"
      ]
     },
     "execution_count": 5,
     "metadata": {},
     "output_type": "execute_result"
    }
   ],
   "source": [
    "data[0]"
   ]
  },
  {
   "cell_type": "code",
   "execution_count": 7,
   "metadata": {
    "collapsed": false
   },
   "outputs": [
    {
     "data": {
      "text/plain": [
       "[1466780064.0, 0.10791517320475999, 6.0]"
      ]
     },
     "execution_count": 7,
     "metadata": {},
     "output_type": "execute_result"
    }
   ],
   "source": [
    "np[0]"
   ]
  },
  {
   "cell_type": "code",
   "execution_count": 9,
   "metadata": {
    "collapsed": false
   },
   "outputs": [],
   "source": [
    "def feature(json,row):\n",
    "    return [\n",
    "        json['bathrooms'],\n",
    "        json['bedrooms'],\n",
    "        json['density'],\n",
    "        json['interest_building'][0],\n",
    "        json['interest_building'][1],\n",
    "        json['interest_building'][2],\n",
    "        json['interest_building'][3],\n",
    "        json['interest_manager'][0],\n",
    "        json['interest_manager'][1],\n",
    "        json['interest_manager'][2],\n",
    "        json['interest_manager'][3],\n",
    "        json['latitude'],\n",
    "        json['longitude'],\n",
    "        len(json['photos']),\n",
    "        json['population'],\n",
    "        json['price'],\n",
    "        json['wage'],\n",
    "        row[0],\n",
    "        row[1],\n",
    "        row[2]\n",
    "        \n",
    "    ]\n",
    "    "
   ]
  },
  {
   "cell_type": "code",
   "execution_count": 11,
   "metadata": {
    "collapsed": false
   },
   "outputs": [],
   "source": [
    "X=[]\n",
    "for i in range(len(data)):\n",
    "    X += [feature(data[i],np[i])]"
   ]
  },
  {
   "cell_type": "code",
   "execution_count": 12,
   "metadata": {
    "collapsed": false
   },
   "outputs": [
    {
     "data": {
      "text/plain": [
       "[1.5,\n",
       " 3,\n",
       " 57116.783216783224,\n",
       " 0.6666666666666666,\n",
       " 0.3333333333333333,\n",
       " 0.0,\n",
       " 3,\n",
       " 0.7444444444444445,\n",
       " 0.25555555555555554,\n",
       " 0.0,\n",
       " 90,\n",
       " 40.714500000000001,\n",
       " -73.942499999999995,\n",
       " 5,\n",
       " 81677,\n",
       " 3000,\n",
       " 9249.01367582061,\n",
       " 1466780064.0,\n",
       " 0.10791517320475999,\n",
       " 6.0]"
      ]
     },
     "execution_count": 12,
     "metadata": {},
     "output_type": "execute_result"
    }
   ],
   "source": [
    "X[0]"
   ]
  },
  {
   "cell_type": "code",
   "execution_count": 13,
   "metadata": {
    "collapsed": true
   },
   "outputs": [],
   "source": [
    "numpy.save('featureX.npy',X)"
   ]
  },
  {
   "cell_type": "code",
   "execution_count": 14,
   "metadata": {
    "collapsed": true
   },
   "outputs": [],
   "source": [
    "import pandas\n",
    "d = pandas.read_json(\"train.json\")\n",
    "data1 = []\n",
    "label = []\n",
    "for i in range(len(d)):\n",
    "    temp = {}\n",
    "    for j in range(15):\n",
    "        if d.columns[j] == 'interest_level':\n",
    "            label.append(d.iat[i, j])\n",
    "            continue\n",
    "        temp[d.columns[j]] = d.iat[i, j]\n",
    "    data1.append(temp)"
   ]
  },
  {
   "cell_type": "code",
   "execution_count": 15,
   "metadata": {
    "collapsed": false
   },
   "outputs": [
    {
     "data": {
      "text/plain": [
       "u'medium'"
      ]
     },
     "execution_count": 15,
     "metadata": {},
     "output_type": "execute_result"
    }
   ],
   "source": [
    "label[0]"
   ]
  },
  {
   "cell_type": "code",
   "execution_count": 17,
   "metadata": {
    "collapsed": false
   },
   "outputs": [],
   "source": [
    "labels = ['low','medium','high']\n",
    "Y = numpy.array([labels.index(x) for x in label])"
   ]
  },
  {
   "cell_type": "code",
   "execution_count": 18,
   "metadata": {
    "collapsed": false
   },
   "outputs": [
    {
     "data": {
      "text/plain": [
       "array([1, 0, 2, ..., 0, 0, 0])"
      ]
     },
     "execution_count": 18,
     "metadata": {},
     "output_type": "execute_result"
    }
   ],
   "source": [
    "Y"
   ]
  },
  {
   "cell_type": "code",
   "execution_count": 19,
   "metadata": {
    "collapsed": true
   },
   "outputs": [],
   "source": [
    "numpy.save('labelY.npy',Y)"
   ]
  },
  {
   "cell_type": "code",
   "execution_count": 29,
   "metadata": {
    "collapsed": false
   },
   "outputs": [],
   "source": [
    "from sklearn.linear_model import LogisticRegression\n",
    "model = LogisticRegression(solver='lbfgs',multi_class='multinomial')\n",
    "model.fit(X,Y)\n",
    "probs = model.predict_proba(X)"
   ]
  },
  {
   "cell_type": "code",
   "execution_count": 30,
   "metadata": {
    "collapsed": false
   },
   "outputs": [
    {
     "data": {
      "text/plain": [
       "array([[ 0.69537408,  0.22715786,  0.07746806],\n",
       "       [ 0.69516875,  0.22726769,  0.07756356],\n",
       "       [ 0.69418777,  0.22779165,  0.07802058],\n",
       "       [ 0.69420441,  0.22778277,  0.07801282],\n",
       "       [ 0.694378  ,  0.22769014,  0.07793186]])"
      ]
     },
     "execution_count": 30,
     "metadata": {},
     "output_type": "execute_result"
    }
   ],
   "source": [
    "probs[:5]"
   ]
  },
  {
   "cell_type": "code",
   "execution_count": 27,
   "metadata": {
    "collapsed": false
   },
   "outputs": [
    {
     "data": {
      "text/plain": [
       "[u'medium', u'low', u'high', u'low', u'low']"
      ]
     },
     "execution_count": 27,
     "metadata": {},
     "output_type": "execute_result"
    }
   ],
   "source": [
    "label[:5]"
   ]
  },
  {
   "cell_type": "code",
   "execution_count": 31,
   "metadata": {
    "collapsed": false
   },
   "outputs": [
    {
     "name": "stdout",
     "output_type": "stream",
     "text": [
      "0.788560860136\n"
     ]
    }
   ],
   "source": [
    "from sklearn.metrics import log_loss\n",
    "print log_loss(Y,probs)"
   ]
  },
  {
   "cell_type": "code",
   "execution_count": 36,
   "metadata": {
    "collapsed": false
   },
   "outputs": [
    {
     "name": "stdout",
     "output_type": "stream",
     "text": [
      "0.406581124056\n"
     ]
    }
   ],
   "source": [
    "from sklearn.multiclass import OneVsRestClassifier\n",
    "from sklearn.ensemble import GradientBoostingClassifier\n",
    "from sklearn.svm import LinearSVC\n",
    "model = OneVsRestClassifier(GradientBoostingClassifier())\n",
    "model .fit(X, Y)\n",
    "probs =model.predict_proba(X)\n",
    "print log_loss(Y,probs)"
   ]
  },
  {
   "cell_type": "code",
   "execution_count": 48,
   "metadata": {
    "collapsed": false
   },
   "outputs": [],
   "source": [
    "from scipy.spatial import distance \n",
    "def dist(d):\n",
    "    return int(distance.euclidean((d['latitude'],d['longitude']),(40.785091, -73.968285))*10)\n",
    "d = [dist(x) for x in data]\n",
    "\n",
    "    "
   ]
  },
  {
   "cell_type": "code",
   "execution_count": 49,
   "metadata": {
    "collapsed": true
   },
   "outputs": [],
   "source": [
    "from collections import defaultdict\n",
    "freq = defaultdict(list)\n",
    "for i in range(len(label)):\n",
    "    freq[d[i]].append(Y[i])\n",
    "    "
   ]
  },
  {
   "cell_type": "code",
   "execution_count": 50,
   "metadata": {
    "collapsed": false
   },
   "outputs": [],
   "source": [
    "for key in freq:\n",
    "    freq[key] = {'avg': sum(freq[key])*1.0/len(freq[key]), 'num':len(freq[key])}"
   ]
  },
  {
   "cell_type": "code",
   "execution_count": 45,
   "metadata": {
    "collapsed": false
   },
   "outputs": [
    {
     "data": {
      "text/plain": [
       "{'avg': 0.38332860213309544, 'num': 49318}"
      ]
     },
     "execution_count": 45,
     "metadata": {},
     "output_type": "execute_result"
    }
   ],
   "source": [
    "freq[0]"
   ]
  },
  {
   "cell_type": "code",
   "execution_count": 46,
   "metadata": {
    "collapsed": false
   },
   "outputs": [
    {
     "data": {
      "text/plain": [
       "{'avg': 0.0, 'num': 3}"
      ]
     },
     "execution_count": 46,
     "metadata": {},
     "output_type": "execute_result"
    }
   ],
   "source": [
    "freq[1]"
   ]
  },
  {
   "cell_type": "code",
   "execution_count": 55,
   "metadata": {
    "collapsed": false
   },
   "outputs": [
    {
     "name": "stdout",
     "output_type": "stream",
     "text": [
      "[(0, {'avg': 0.36125425801380034, 'num': 45796}), (1, {'avg': 0.67478467478467474, 'num': 3367}), (2, {'avg': 0.59285714285714286, 'num': 140}), (3, {'avg': 0.83333333333333337, 'num': 6}), (4, {'avg': 0.0, 'num': 4})]\n"
     ]
    }
   ],
   "source": [
    "items = sorted(freq.items(),key=lambda x:x[0])\n",
    "print items[:5]"
   ]
  },
  {
   "cell_type": "code",
   "execution_count": 58,
   "metadata": {
    "collapsed": false
   },
   "outputs": [
    {
     "data": {
      "image/png": "[encoded data removed]",
      "text/plain": [
       "<matplotlib.figure.Figure at 0x151686f0>"
      ]
     },
     "metadata": {},
     "output_type": "display_data"
    }
   ],
   "source": [
    "import  matplotlib.pyplot as plt\n",
    "avg,num=[],[]\n",
    "for item in items:\n",
    "    avg.append(item[1]['avg'])\n",
    "    num.append(item[1]['num'])\n",
    "plt.plot(list(range(len(items))),avg)\n",
    "plt.show()"
   ]
  },
  {
   "cell_type": "code",
   "execution_count": 59,
   "metadata": {
    "collapsed": false
   },
   "outputs": [
    {
     "data": {
      "image/png": "[encoded data removed]",
      "text/plain": [
       "<matplotlib.figure.Figure at 0x1e0157b0>"
      ]
     },
     "metadata": {},
     "output_type": "display_data"
    }
   ],
   "source": [
    "plt.plot(list(range(len(items))),num)\n",
    "plt.show()"
   ]
  },
  {
   "cell_type": "code",
   "execution_count": null,
   "metadata": {
    "collapsed": true
   },
   "outputs": [],
   "source": []
  }
 ],
 "metadata": {
  "kernelspec": {
   "display_name": "Python 2",
   "language": "python",
   "name": "python2"
  },
  "language_info": {
   "codemirror_mode": {
    "name": "ipython",
    "version": 2
   },
   "file_extension": ".py",
   "mimetype": "text/x-python",
   "name": "python",
   "nbconvert_exporter": "python",
   "pygments_lexer": "ipython2",
   "version": "2.7.12"
  }
 },
 "nbformat": 4,
 "nbformat_minor": 2
}
