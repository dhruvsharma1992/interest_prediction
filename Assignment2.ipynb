{
 "cells": [
  {
   "cell_type": "code",
   "execution_count": 1,
   "metadata": {
    "collapsed": true
   },
   "outputs": [],
   "source": [
    "import pandas\n",
    "d = pandas.read_json(\"train.json\")"
   ]
  },
  {
   "cell_type": "code",
   "execution_count": 2,
   "metadata": {
    "collapsed": true
   },
   "outputs": [],
   "source": [
    "data = []\n",
    "label = []\n",
    "for i in range(len(d)):\n",
    "    temp = {}\n",
    "    for j in range(15):\n",
    "        if d.columns[j] == 'interest_level':\n",
    "            label.append(d.iat[i, j])\n",
    "            continue\n",
    "        temp[d.columns[j]] = d.iat[i, j]\n",
    "    data.append(temp)"
   ]
  },
  {
   "cell_type": "code",
   "execution_count": 59,
   "metadata": {
    "collapsed": true
   },
   "outputs": [],
   "source": [
    "feature_names = []\n",
    "\n",
    "feature_names.append('bathrooms'),#0\n",
    "feature_names.append('bedrooms'),#1\n",
    "feature_names.append('density'),#2\n",
    "feature_names.append('interest_manager_low'),#3\n",
    "feature_names.append('interest_manager_medium'),#4\n",
    "feature_names.append('interest_manager_high'),#5\n",
    "feature_names.append('interest_manager_counts'),#6\n",
    "feature_names.append('interest_building_low'),#7\n",
    "feature_names.append('interest_building_medium'),#8\n",
    "feature_names.append('interest_building_high'),#9\n",
    "feature_names.append('interest_building_counts'),#10\n",
    "feature_names.append('length of property features'),#11\n",
    "feature_names.append('latitude'),#12\n",
    "feature_names.append('longitude'),#13\n",
    "feature_names.append('dist from city center'),#14\n",
    "feature_names.append('number of photos'),#15\n",
    "feature_names.append('population'),#16\n",
    "feature_names.append('price'),#17\n",
    "feature_names.append('wage'),#18\n",
    "feature_names.append('unix timestamp'),#19\n",
    "feature_names.append('tfidf of description'),#20\n",
    "feature_names.append('ari of desciption'),#21,\n",
    "feature_names.append('interest level')#22"
   ]
  },
  {
   "cell_type": "code",
   "execution_count": 53,
   "metadata": {
    "collapsed": true
   },
   "outputs": [],
   "source": [
    "import numpy\n",
    "temp = numpy.load('featureX.npy')\n",
    "division = 40000\n",
    "\n",
    "trainData = temp[:40000]\n",
    "validationData = temp[40000:]"
   ]
  },
  {
   "cell_type": "code",
   "execution_count": 54,
   "metadata": {
    "collapsed": true
   },
   "outputs": [],
   "source": [
    "def feature(data):\n",
    "    feat = [data[0], data[1], data[2], (0 * data[3] + 1 * data[4] + 2 * data[5]), \n",
    "            data[6], (0 * data[7] + 1 * data[8] + 2 * data[9]), data[10], data[11],\n",
    "            data[14], data[15], data[16], data[17], data[18], data[19], data[20],\n",
    "            data[21], data[0] + data[1], data[1] - data[0], data[1] / (data[0] + data[1] + 1)]\n",
    "    return feat"
   ]
  },
  {
   "cell_type": "code",
   "execution_count": 55,
   "metadata": {
    "collapsed": true
   },
   "outputs": [],
   "source": [
    "XTrain = [feature(x) for x in trainData if x[14] < 0.2]\n",
    "yTrain = [x[22] for x in trainData if x[14] < 0.2]"
   ]
  },
  {
   "cell_type": "code",
   "execution_count": 56,
   "metadata": {
    "collapsed": true
   },
   "outputs": [],
   "source": [
    "XValidate = [feature(x) for x in validationData]\n",
    "yValidate = [x[22] for x in validationData]"
   ]
  },
  {
   "cell_type": "code",
   "execution_count": null,
   "metadata": {
    "collapsed": false
   },
   "outputs": [],
   "source": [
    "from sklearn.multiclass import OneVsRestClassifier\n",
    "from sklearn.ensemble import GradientBoostingClassifier\n",
    "import numpy\n",
    "from scipy.spatial import distance\n",
    "model = OneVsRestClassifier(GradientBoostingClassifier(n_estimators=500))\n",
    "model.fit(XTrain, yTrain)\n",
    "probabilities = model.predict_proba(XValidate)"
   ]
  },
  {
   "cell_type": "code",
   "execution_count": 70,
   "metadata": {
    "collapsed": false
   },
   "outputs": [
    {
     "name": "stdout",
     "output_type": "stream",
     "text": [
      "0.463285878603\n"
     ]
    }
   ],
   "source": [
    "from sklearn.metrics import log_loss\n",
    "error = log_loss(yValidate, probabilities)\n",
    "print error"
   ]
  },
  {
   "cell_type": "code",
   "execution_count": 71,
   "metadata": {
    "collapsed": false
   },
   "outputs": [],
   "source": [
    "tempTest = numpy.load('X_test.npy')"
   ]
  },
  {
   "cell_type": "code",
   "execution_count": 72,
   "metadata": {
    "collapsed": true
   },
   "outputs": [],
   "source": [
    "XTest = [feature(x) for x in tempTest]\n",
    "pred = model.predict_proba(XTest)"
   ]
  },
  {
   "cell_type": "code",
   "execution_count": 73,
   "metadata": {
    "collapsed": false
   },
   "outputs": [],
   "source": [
    "output = open('result.txt', 'w')\n",
    "output.write(\"listing_id,high,medium,low\\n\")\n",
    "for i in range(len(XTest)):\n",
    "    output.write(str(int(tempTest[i][22])) + ',' + str(pred[i][2]) + ',' + str(pred[i][1]) + ',' + str(pred[i][0]) + '\\n')\n",
    "output.close()"
   ]
  },
  {
   "cell_type": "code",
   "execution_count": 52,
   "metadata": {
    "collapsed": false
   },
   "outputs": [
    {
     "name": "stdout",
     "output_type": "stream",
     "text": [
      "23\n"
     ]
    }
   ],
   "source": [
    "print len(tempTest[0])"
   ]
  },
  {
   "cell_type": "code",
   "execution_count": null,
   "metadata": {
    "collapsed": true
   },
   "outputs": [],
   "source": []
  }
 ],
 "metadata": {
  "kernelspec": {
   "display_name": "Python 2",
   "language": "python",
   "name": "python2"
  },
  "language_info": {
   "codemirror_mode": {
    "name": "ipython",
    "version": 2
   },
   "file_extension": ".py",
   "mimetype": "text/x-python",
   "name": "python",
   "nbconvert_exporter": "python",
   "pygments_lexer": "ipython2",
   "version": "2.7.13"
  }
 },
 "nbformat": 4,
 "nbformat_minor": 2
}
